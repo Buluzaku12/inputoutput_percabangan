{
 "cells": [
  {
   "cell_type": "code",
   "execution_count": 13,
   "id": "b205425a",
   "metadata": {},
   "outputs": [
    {
     "name": "stdout",
     "output_type": "stream",
     "text": [
      "isikan nama awal : ADVENT\n",
      "isikan nama tengah : CLEMET\n",
      "isikan nama akhir : ZENDRATO\n",
      "Selamat Datang ADVENT CLEMET ZENDRATO S.Kom\n"
     ]
    }
   ],
   "source": [
    "fname = input('isikan nama awal : ')\n",
    "mname = input('isikan nama tengah : ')\n",
    "lname = input('isikan nama akhir : ')\n",
    "\n",
    "print('Selamat Datang',fname,mname,lname,\"S.Kom\")\n"
   ]
  },
  {
   "cell_type": "code",
   "execution_count": 14,
   "id": "44e85408",
   "metadata": {
    "scrolled": true
   },
   "outputs": [
    {
     "name": "stdout",
     "output_type": "stream",
     "text": [
      "Isikan bilangan 1 : 23\n",
      "Isikan bilangan 2 : 23\n",
      "<class 'str'>\n",
      "hasil penjumlahan =  46\n"
     ]
    }
   ],
   "source": [
    "bil1 = input('Isikan bilangan 1 : ')\n",
    "bil2 = input('Isikan bilangan 2 : ')\n",
    "print(type(bil1))\n",
    "hasil = int(bil1)+int(bil2)\n",
    "print ('hasil penjumlahan = ',hasil)"
   ]
  },
  {
   "cell_type": "code",
   "execution_count": 26,
   "id": "987d8eab",
   "metadata": {},
   "outputs": [
    {
     "name": "stdout",
     "output_type": "stream",
     "text": [
      "panjang :121\n",
      "lebar :112\n",
      "<class 'str'>\n",
      "luas =  13552 cm\n",
      "keliling =  466 cm\n"
     ]
    }
   ],
   "source": [
    "P = input ('panjang :')\n",
    "L = input ('lebar :')\n",
    "print(type(P))\n",
    "luas = int(P)*int(L)\n",
    "print('luas = ',luas,\"cm\")\n",
    "keliling = 2*((int(P))+(int(L)))\n",
    "print('keliling = ',keliling,\"cm\")"
   ]
  },
  {
   "cell_type": "code",
   "execution_count": 9,
   "id": "0974925c",
   "metadata": {
    "scrolled": true
   },
   "outputs": [
    {
     "name": "stdout",
     "output_type": "stream",
     "text": [
      "januari#####february#####maret#####april\n"
     ]
    }
   ],
   "source": [
    "print(\"januari\",\"february\",\"maret\",\"april\", sep=\"#\"*5)"
   ]
  },
  {
   "cell_type": "code",
   "execution_count": 10,
   "id": "537b02eb",
   "metadata": {},
   "outputs": [
    {
     "name": "stdout",
     "output_type": "stream",
     "text": [
      "senin@selasa@rabu@kamis@jumat^_^one\n",
      "two\n"
     ]
    }
   ],
   "source": [
    "print(\"senin\",\"selasa\",\"rabu\",\"kamis\",\"jumat\",sep=\"@\",end=\"^_^\")\n",
    "print(\"one\",\"two\",sep=\"\\n\")"
   ]
  },
  {
   "cell_type": "code",
   "execution_count": 12,
   "id": "5847fab3",
   "metadata": {},
   "outputs": [
    {
     "name": "stdout",
     "output_type": "stream",
     "text": [
      "perkalian 7 dengan 10 adalah 70\n"
     ]
    }
   ],
   "source": [
    "number1 = 7\n",
    "number2 = 10\n",
    "\n",
    "#hasil perkalian \n",
    "print(\"perkalian {} dengan {} adalah {}\".format(number1,number2,number1*number2))"
   ]
  },
  {
   "cell_type": "code",
   "execution_count": 18,
   "id": "b0fd1b30",
   "metadata": {},
   "outputs": [
    {
     "name": "stdout",
     "output_type": "stream",
     "text": [
      "urutan huruf ZENDRATO ADVENT CLEMENT\n"
     ]
    }
   ],
   "source": [
    "first_letter = \"ADVENT\"\n",
    "middle_letter = \"CLEMENT\"\n",
    "Last_letter = \"ZENDRATO\"\n",
    "print (\"urutan huruf {2} {0} {1}\".format(first_letter,middle_letter,Last_letter))"
   ]
  },
  {
   "cell_type": "code",
   "execution_count": 19,
   "id": "628d55bc",
   "metadata": {},
   "outputs": [
    {
     "name": "stdout",
     "output_type": "stream",
     "text": [
      "sekarang tanggal 20 Bulan maret tahun 2024\n"
     ]
    }
   ],
   "source": [
    "print(\"sekarang tanggal {tanggal} Bulan {bulan} tahun {tahun}\".format(tanggal = 20,bulan=\"maret\",tahun=2024))"
   ]
  },
  {
   "cell_type": "code",
   "execution_count": 32,
   "id": "dbf202b0",
   "metadata": {},
   "outputs": [
    {
     "name": "stdout",
     "output_type": "stream",
     "text": [
      "Huruf pertama adalah :  U\n",
      "Huruf terakhir adalah :  n\n",
      "Huruf range 0-10 :  Universitas\n",
      " best\n",
      "Nusa Putra in the best\n",
      "tseb eht ni artuP asuN satisrevinU\n"
     ]
    }
   ],
   "source": [
    "kampus = \"Universitas Nusa Putra in the best\"\n",
    "print(\"Huruf pertama adalah : \",kampus[0])\n",
    "print(\"Huruf terakhir adalah : \",kampus[1])\n",
    "print(\"Huruf range 0-10 : \",kampus[0:11])\n",
    "print(kampus[-5:])\n",
    "print(kampus[12:])\n",
    "#Reverse string\n",
    "print(kampus[::-1])\n",
    "\n"
   ]
  },
  {
   "cell_type": "code",
   "execution_count": 35,
   "id": "858a4729",
   "metadata": {},
   "outputs": [
    {
     "name": "stdout",
     "output_type": "stream",
     "text": [
      "['jakarata', 'gunungsitoli', 'niasbarat', 'malang', 'bandung']\n",
      "niasbarat\n",
      "jakarata@gunungsitoli@niasbarat@malang@bandung\n"
     ]
    }
   ],
   "source": [
    "#split => string -> list\n",
    "kota = \"jakarata gunungsitoli niasbarat malang bandung \"\n",
    "list_kota = kota.split()\n",
    "print(list_kota)\n",
    "print(list_kota[2])\n",
    "#join=> list -> string\n",
    "join_kota = \"@\".join(list_kota)\n",
    "print(join_kota)"
   ]
  },
  {
   "cell_type": "code",
   "execution_count": 95,
   "id": "41113dc3",
   "metadata": {},
   "outputs": [
    {
     "name": "stdout",
     "output_type": "stream",
     "text": [
      "NAMA : ADVENT CLEMENT\n",
      "TANGGA  : 10/12/2004\n",
      "nama awal :  ADVENT\n",
      "nama akhir :  CLEMENT\n"
     ]
    },
    {
     "ename": "IndexError",
     "evalue": "list index out of range",
     "output_type": "error",
     "traceback": [
      "\u001b[1;31m---------------------------------------------------------------------------\u001b[0m",
      "\u001b[1;31mIndexError\u001b[0m                                Traceback (most recent call last)",
      "Input \u001b[1;32mIn [95]\u001b[0m, in \u001b[0;36m<cell line: 21>\u001b[1;34m()\u001b[0m\n\u001b[0;32m     23\u001b[0m \u001b[38;5;28;01melif\u001b[39;00m list_tanggal [\u001b[38;5;241m2\u001b[39m] \u001b[38;5;241m==\u001b[39m \u001b[38;5;124m\"\u001b[39m\u001b[38;5;124m02\u001b[39m\u001b[38;5;124m\"\u001b[39m :\n\u001b[0;32m     24\u001b[0m     keterangan \u001b[38;5;241m=\u001b[39m  \u001b[38;5;124m\"\u001b[39m\u001b[38;5;124m februari\u001b[39m\u001b[38;5;124m\"\u001b[39m\n\u001b[1;32m---> 25\u001b[0m \u001b[38;5;28;01melif\u001b[39;00m \u001b[43mlist_tanggal\u001b[49m\u001b[43m \u001b[49m\u001b[43m[\u001b[49m\u001b[38;5;241;43m3\u001b[39;49m\u001b[43m]\u001b[49m \u001b[38;5;241m==\u001b[39m \u001b[38;5;124m\"\u001b[39m\u001b[38;5;124m03\u001b[39m\u001b[38;5;124m\"\u001b[39m :\n\u001b[0;32m     26\u001b[0m     keterangan \u001b[38;5;241m=\u001b[39m  \u001b[38;5;124m\"\u001b[39m\u001b[38;5;124m maret\u001b[39m\u001b[38;5;124m\"\u001b[39m\n\u001b[0;32m     27\u001b[0m \u001b[38;5;28;01melif\u001b[39;00m list_tanggal [\u001b[38;5;241m4\u001b[39m] \u001b[38;5;241m==\u001b[39m \u001b[38;5;124m\"\u001b[39m\u001b[38;5;124m04\u001b[39m\u001b[38;5;124m\"\u001b[39m :\n",
      "\u001b[1;31mIndexError\u001b[0m: list index out of range"
     ]
    }
   ],
   "source": [
    "#iskan nama anda : advent clement\n",
    "#isikan tanggal lahir : 10/12/2004\n",
    "#output\n",
    "#nama awal : \n",
    "#nama akhir :\n",
    "#tanggal lahir \n",
    "#bulan lahir\n",
    "#tahun lahir\n",
    "#nama insial\n",
    "\n",
    "nama = input(\"NAMA : \")\n",
    "tanggal_lahir = input (\"TANGGA  : \")\n",
    "list_nama=(nama.split())\n",
    "print (\"nama awal : \",list_nama[0])\n",
    "print (\"nama akhir : \",list_nama[1])\n",
    "\n",
    "\n",
    "\n",
    "list_tanggal=tanggal_lahir.split(\"/\")\n",
    "\n",
    "if list_tanggal [1] == \"01\" :\n",
    "    keterangan = \"januari\"\n",
    "elif list_tanggal [2] == \"02\" :\n",
    "    keterangan =  \" februari\"\n",
    "elif list_tanggal [3] == \"03\" :\n",
    "    keterangan =  \" maret\"\n",
    "elif list_tanggal [4] == \"04\" :\n",
    "    keterangan =  \" april\"\n",
    "elif list_tanggal [5] == \"05\" :\n",
    "    keterangan =  \" mei\"\n",
    "elif list_tanggal [6] == \"06\" :\n",
    "    keterangan =  \" juni\"\n",
    "elif list_tanggal [7] == \"07\" :\n",
    "    keterangan =  \" juli\"\n",
    "elif list_tanggal [8] == \"08\" :\n",
    "    keterangan =  \" agustus\"\n",
    "elif list_tanggal [9] == \"09\" :\n",
    "    keterangan =  \" septemeber\"\n",
    "elif list_tanggal [10]== \"10\" :\n",
    "    keterangan =  \" oktober\"\n",
    "elif list_tanggal [11]== \"11\":\n",
    "    keterangan =  \"november\"\n",
    "elif list_tanggal [12] == \"12\" :\n",
    "    keterangan =  \"desember\"\n",
    "print(\"tanggal lahir : \",list_tanggal[0])\n",
    "print (\"Bulan lahir : \",list_tanggal[1],keterangan)\n",
    "print(\"Tahun lahir : \",list_tanggal[2])\n",
    "print ( \"inisial : \",list_nama[0][0]+list_nama[1][0])\n",
    "\n",
    "\n",
    "\n"
   ]
  },
  {
   "cell_type": "code",
   "execution_count": null,
   "id": "8b3c5ddb",
   "metadata": {},
   "outputs": [],
   "source": []
  },
  {
   "cell_type": "code",
   "execution_count": null,
   "id": "61a729ea",
   "metadata": {},
   "outputs": [],
   "source": []
  },
  {
   "cell_type": "code",
   "execution_count": null,
   "id": "8aac320c",
   "metadata": {},
   "outputs": [],
   "source": []
  },
  {
   "cell_type": "code",
   "execution_count": null,
   "id": "767d9069",
   "metadata": {},
   "outputs": [],
   "source": []
  }
 ],
 "metadata": {
  "kernelspec": {
   "display_name": "Python 3 (ipykernel)",
   "language": "python",
   "name": "python3"
  },
  "language_info": {
   "codemirror_mode": {
    "name": "ipython",
    "version": 3
   },
   "file_extension": ".py",
   "mimetype": "text/x-python",
   "name": "python",
   "nbconvert_exporter": "python",
   "pygments_lexer": "ipython3",
   "version": "3.9.12"
  }
 },
 "nbformat": 4,
 "nbformat_minor": 5
}
