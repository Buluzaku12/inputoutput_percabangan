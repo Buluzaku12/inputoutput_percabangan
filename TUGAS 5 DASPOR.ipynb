{
 "cells": [
  {
   "cell_type": "markdown",
   "id": "a6925f6b",
   "metadata": {},
   "source": [
    "TARIF HARGA BERMAIN DISNEY ISLAND "
   ]
  },
  {
   "cell_type": "code",
   "execution_count": 52,
   "id": "df588a24",
   "metadata": {},
   "outputs": [
    {
     "name": "stdout",
     "output_type": "stream",
     "text": [
      "UMUR : 12\n",
      " TINGGI : 160\n",
      "Tarif  harga untuk anak dengan umur 12 tahun dan tinggi 160 cm adalah Rp 80000\n"
     ]
    }
   ],
   "source": [
    "umur = int (input (\"UMUR : \")) \n",
    "tinggi = int (input ( \" TINGGI : \")) \n",
    "tarif =\"\"\n",
    "if umur < 2:\n",
    "    print(\"Dilarang masuk\")\n",
    "    \n",
    "elif umur < 4:\n",
    "    tarif = 30000\n",
    "    if tinggi > 70:\n",
    "        tarif += 10000\n",
    "elif umur < 7:\n",
    "    tarif = 40000\n",
    "    if tinggi > 120:\n",
    "        tarif += 15000\n",
    "elif umur < 10:\n",
    "    tarif = 50000\n",
    "    if tinggi > 150:\n",
    "        tarif += 20000\n",
    "else:\n",
    "    tarif = 80000\n",
    "    \n",
    "print(\"Tarif  harga untuk anak dengan umur {} tahun dan tinggi {} cm adalah Rp {}\".format(umur, tinggi, tarif))\n",
    "\n"
   ]
  },
  {
   "cell_type": "code",
   "execution_count": null,
   "id": "0772d73d",
   "metadata": {},
   "outputs": [],
   "source": []
  }
 ],
 "metadata": {
  "kernelspec": {
   "display_name": "Python 3 (ipykernel)",
   "language": "python",
   "name": "python3"
  },
  "language_info": {
   "codemirror_mode": {
    "name": "ipython",
    "version": 3
   },
   "file_extension": ".py",
   "mimetype": "text/x-python",
   "name": "python",
   "nbconvert_exporter": "python",
   "pygments_lexer": "ipython3",
   "version": "3.11.5"
  }
 },
 "nbformat": 4,
 "nbformat_minor": 5
}
