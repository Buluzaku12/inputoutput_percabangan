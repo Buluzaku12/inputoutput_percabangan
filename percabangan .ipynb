{
 "cells": [
  {
   "cell_type": "code",
   "execution_count": 6,
   "id": "188d8a4f",
   "metadata": {},
   "outputs": [
    {
     "name": "stdout",
     "output_type": "stream",
     "text": [
      "isikan nilai13\n",
      "13adalah bilangan ganjil\n"
     ]
    }
   ],
   "source": [
    "nilai = int(input(\"isikan nilai\"))\n",
    "sisa= nilai%2\n",
    "\n",
    "if sisa ==0 :\n",
    "    print(nilai,\"adalah bilamngan genap \")\n",
    "else:\n",
    "    print(f\"{nilai}adalah bilangan ganjil\")\n"
   ]
  },
  {
   "cell_type": "code",
   "execution_count": 14,
   "id": "40197e44",
   "metadata": {},
   "outputs": [
    {
     "name": "stdout",
     "output_type": "stream",
     "text": [
      "isikan nilai mahasiswa : 23\n",
      "nilai huruf mahasiswa :  E\n"
     ]
    }
   ],
   "source": [
    "# 0-49 =>E\n",
    "# 50-59 =>D\n",
    "# 60-69 =>C\n",
    "# 70-89 =>B\n",
    "# 90-100 =>A\n",
    "\n",
    "nilai_mahasiswa = int(input(\"isikan nilai mahasiswa : \"))\n",
    "keterangan =\"\"\n",
    "if nilai_mahasiswa>0 and nilai_mahasiswa <50:\n",
    "    keterangan = \"E\"\n",
    "elif nilai_mahasiswa >50  and nilai_mahasiswa <60 :\n",
    "    keterangan = \"D\"\n",
    "\n",
    "elif nilai_mahasiswa>60  and nilai_mahasiswa <70 :\n",
    "    keterangan = \"C\"\n",
    "    \n",
    "elif nilai_mahasiswa>70  and nilai_mahasiswa<80 :\n",
    "    keterangan = \"B\"\n",
    "    \n",
    "elif nilai_mahasiswa>90 and nilai_mahasiswa < 100:\n",
    "    ketrangan = \"A\"\n",
    "    \n",
    "print(\"nilai huruf mahasiswa : \", keterangan)"
   ]
  },
  {
   "cell_type": "code",
   "execution_count": null,
   "id": "aabe718d",
   "metadata": {},
   "outputs": [],
   "source": []
  }
 ],
 "metadata": {
  "kernelspec": {
   "display_name": "Python 3 (ipykernel)",
   "language": "python",
   "name": "python3"
  },
  "language_info": {
   "codemirror_mode": {
    "name": "ipython",
    "version": 3
   },
   "file_extension": ".py",
   "mimetype": "text/x-python",
   "name": "python",
   "nbconvert_exporter": "python",
   "pygments_lexer": "ipython3",
   "version": "3.9.12"
  }
 },
 "nbformat": 4,
 "nbformat_minor": 5
}
